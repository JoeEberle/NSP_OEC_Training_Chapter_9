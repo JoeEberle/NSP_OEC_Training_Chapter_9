{
 "cells": [
  {
   "cell_type": "markdown",
   "id": "1d6ba4ee-8ac4-44f5-a02c-bc41b9681279",
   "metadata": {},
   "source": []
  },
  {
   "cell_type": "markdown",
   "id": "237aab5c",
   "metadata": {},
   "source": [
    "# NSP_OEC_Training_Chapter_9\n",
    "\n",
    "## National Ski Patrol (NSP) - Outdoor Emergency Care (OEC) - Chapter 9 - Managing Airways\n",
    "#### Candidate Joe Eberle started on 09_20_2024 - https://github.com/JoeEberle/ - josepheberle@outlook.com\n",
    "#### Instructor : Allison Langang"
   ]
  },
  {
   "cell_type": "code",
   "execution_count": null,
   "id": "b686e537-75fe-41dd-8bd1-fc028ceb7f8d",
   "metadata": {},
   "outputs": [],
   "source": []
  },
  {
   "cell_type": "code",
   "execution_count": null,
   "id": "deffe246",
   "metadata": {},
   "outputs": [],
   "source": [
    "import os\n",
    "import schedule\n",
    "from datetime import datetime\n",
    "import pandas as pd \n",
    "import quick_logger as ql\n",
    "import talking_code as tc \n",
    "import file_manager as fm \n",
    "import time\n",
    "print(f\"Libraries Imported succesfully on {datetime.now().date()} at {datetime.now().time()}\") "
   ]
  },
  {
   "cell_type": "markdown",
   "id": "7d7f1918-fc06-4335-81bc-17557136ddcd",
   "metadata": {},
   "source": [
    "#### Required Setup Step 0 - Intitiate Configuration Settings and name the overall solution"
   ]
  },
  {
   "cell_type": "code",
   "execution_count": null,
   "id": "a1984f04-117f-4dc5-98e9-9c701b3e3a4c",
   "metadata": {},
   "outputs": [],
   "source": [
    "import configparser \n",
    "config = configparser.ConfigParser()\n",
    "cfg = config.read('config.ini')  \n",
    "solution_name = 'NSP_OEC_Training_Chapter_9'"
   ]
  },
  {
   "cell_type": "markdown",
   "id": "092cdb4f-95e5-4d0b-9435-f60b3f117f8b",
   "metadata": {},
   "source": [
    "#### Required Setup Step 0 - Intitiate Logging and debugging "
   ]
  },
  {
   "cell_type": "code",
   "execution_count": null,
   "id": "73f3ad24-ff3d-4ba7-84aa-944105fef0f0",
   "metadata": {},
   "outputs": [],
   "source": [
    "# Establish the Python Logger  \n",
    "import logging # built in python library that does not need to be installed \n",
    "import quick_logger as ql\n",
    "\n",
    "global start_stime \n",
    "start_time = ql.set_start_time()\n",
    "logging = ql.create_logger_start(solution_name, start_time) \n",
    "ql.set_speaking_log(False)\n",
    "ql.set_speaking_steps(False)\n",
    "ql.pvlog('info',f'Process {solution_name} Step 0 - Initializing and starting Logging Process.') "
   ]
  },
  {
   "cell_type": "code",
   "execution_count": null,
   "id": "02b410f1-0091-4b55-b7d4-6ed7e2102b0f",
   "metadata": {},
   "outputs": [],
   "source": []
  },
  {
   "cell_type": "code",
   "execution_count": null,
   "id": "2edce127-dddb-4729-961c-67a0c7d9a240",
   "metadata": {},
   "outputs": [],
   "source": []
  },
  {
   "cell_type": "code",
   "execution_count": null,
   "id": "c73eb538-12b8-4cb3-ad52-765e08fafd26",
   "metadata": {},
   "outputs": [],
   "source": []
  },
  {
   "cell_type": "code",
   "execution_count": null,
   "id": "0691c97b-7bb0-4859-a3c6-01f0b55ef9e1",
   "metadata": {},
   "outputs": [],
   "source": []
  },
  {
   "cell_type": "code",
   "execution_count": null,
   "id": "91fcbc30-82d5-4a62-99ef-370952ef7869",
   "metadata": {},
   "outputs": [],
   "source": [
    "definition = '''\n",
    "Chapter 9: Airway Management\n",
    "\n",
    "1. Describe the function of the epiglottis.\n",
    "2. Describe the mechanism of breathing.\n",
    "3. Describe and demonstrate how to manually open the airway or mouth using techniques.\n",
    "4. Describe and demonstrate the proper way to clear an airway using the methods of finger sweep, suctioning, gravity and positioning, and abdominal thrusts.\n",
    "5. Explain and demonstrate the recovery position.\n",
    "6. Describe the function of the oropharyngeal and nasopharyngeal airway, and demonstrate the sizing and placement of these devices.\n",
    "7. Demonstrate the use of a face shield and pocket mask.\n",
    "8. Explain the tips for safely using oxygen.\n",
    "9. Explain the indications for and administration of oxygen.\n",
    "10. Demonstrate how to place an oxygen cylinder into service.\n",
    "11. Describe the various devices used for delivering oxygen to a patient.\n",
    "12. Explain what a pulse oximeter is and how it is used.\n",
    "13. Explain gastric distention and how to avoid it.\n",
    "\n",
    "\n",
    "\n",
    "**epiglottis**: The epiglottis is a flap of cartilage located at the base of the tongue that plays a crucial role in preventing food and liquid from entering the airway during swallowing. Its primary function is to act as a switch between the trachea (windpipe) and the esophagus.\n",
    "When you swallow, the epiglottis folds over the trachea, blocking the airway and directing food or liquid into the esophagus. This prevents choking and ensures that the airway remains clear for breathing.\n",
    "\n",
    "\n",
    "\n",
    "The **mechanism of breathing** involves two main processes: inhalation (inspiration) and exhalation (expiration), driven by the action of the diaphragm and intercostal muscles.\n",
    "\n",
    "1. **Inhalation**: The diaphragm contracts and moves downward, while the intercostal muscles between the ribs contract to expand the chest cavity.\n",
    "This increases the volume of the thoracic (chest) cavity, creating negative pressure inside the lungs compared to the outside air.\n",
    "As a result, air is drawn into the lungs through the airways to equalize the pressure.\n",
    "\n",
    "2. **Exhalation**: The diaphragm relaxes and moves upward, while the intercostal muscles relax, causing the chest cavity to decrease in volume.\n",
    "This increases the pressure inside the lungs, forcing air out through the airways.\n",
    "Breathing is controlled by the respiratory centers in the brainstem, which respond to changes in carbon dioxide and oxygen levels in the blood. This process ensures a constant exchange of oxygen (for the body’s cells) and carbon dioxide (a waste product) with the external environment.\n",
    "\n",
    "\n",
    "\n",
    "Here are two common techniques used to manually open the airway or mouth in a patient:\n",
    "\n",
    "1. **Head-Tilt, Chin-Lift Maneuver** (for non-trauma patients):\n",
    "Purpose: Opens the airway by preventing the tongue from obstructing the throat.\n",
    "Steps:\n",
    "- Place one hand on the patient’s forehead and gently tilt the head back.\n",
    "- Use the fingertips of your other hand to lift the chin upward.\n",
    "- This motion helps to open the airway by extending the neck and moving the tongue away from the back of the throat.\n",
    "\n",
    "Use: For unconscious or unresponsive patients without suspected spinal injuries.\n",
    "\n",
    "\n",
    "\n",
    "2. **Jaw-Thrust Maneuver** (for trauma patients with possible spinal injury):\n",
    "Purpose: Opens the airway without moving the head or neck, minimizing risk to the spine.\n",
    "Steps:\n",
    "Position yourself at the patient’s head, placing your hands on both sides of the jaw.\n",
    "Using your index fingers, push the angles of the jaw upward, while stabilizing the head with your thumbs.\n",
    "This action moves the jaw forward and opens the airway by moving the tongue away from the back of the throat.\n",
    "Use: For trauma patients or when a spinal injury is suspected.\n",
    "Both techniques are vital in maintaining an open airway to ensure adequate breathing, especially in emergencies.\n",
    "\n",
    "\n",
    "\n",
    "\n",
    "4. Describe and demonstrate the proper way to clear an airway using the methods of finger sweep, suctioning, gravity and positioning, and abdominal thrusts.\n",
    "5. Explain and demonstrate the recovery position.\n",
    "6. Describe the function of the oropharyngeal and nasopharyngeal airway, and demonstrate the sizing and placement of these devices.\n",
    "7. Demonstrate the use of a face shield and pocket mask.\n",
    "8. Explain the tips for safely using oxygen.\n",
    "9. Explain the indications for and administration of oxygen.\n",
    "10. Demonstrate how to place an oxygen cylinder into service.\n",
    "11. Describe the various devices used for delivering oxygen to a patient.\n",
    "12. Explain what a pulse oximeter is and how it is used.\n",
    "13. Explain gastric distention and how to avoid it.\n",
    "\n",
    "\n",
    "\n",
    "\n",
    "\n",
    "''' \n",
    "# Write the solution defitions out to the solution_description.md file\n",
    "file_name = \"solution_description.md\"\n",
    "with open(file_name, 'w') as f:\n",
    "    # Write the template to the readme.md file\n",
    "     f.write(definition)\n",
    "\n",
    "talking_code = False\n",
    "if talking_code:\n",
    "    tc.print_say(definition) \n",
    "else:\n",
    "    print(definition)    "
   ]
  },
  {
   "cell_type": "markdown",
   "id": "72244be9",
   "metadata": {},
   "source": [
    "## Step 0 - Process End - display log"
   ]
  },
  {
   "cell_type": "code",
   "execution_count": null,
   "id": "134074a1",
   "metadata": {},
   "outputs": [],
   "source": [
    "# Calculate and classify the process performance \n",
    "status = ql.calculate_process_performance(solution_name, start_time) \n",
    "print(ql.append_log_file(solution_name))  "
   ]
  },
  {
   "cell_type": "markdown",
   "id": "fcf97414",
   "metadata": {},
   "source": [
    "#### https://github.com/JoeEberle/ -- josepheberle@outlook.com"
   ]
  }
 ],
 "metadata": {
  "kernelspec": {
   "display_name": "Python 3 (ipykernel)",
   "language": "python",
   "name": "python3"
  },
  "language_info": {
   "codemirror_mode": {
    "name": "ipython",
    "version": 3
   },
   "file_extension": ".py",
   "mimetype": "text/x-python",
   "name": "python",
   "nbconvert_exporter": "python",
   "pygments_lexer": "ipython3",
   "version": "3.8.5"
  }
 },
 "nbformat": 4,
 "nbformat_minor": 5
}
